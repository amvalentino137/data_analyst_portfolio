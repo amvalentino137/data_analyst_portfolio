{
 "cells": [
  {
   "cell_type": "markdown",
   "id": "2d474751",
   "metadata": {},
   "source": [
    "# Scraping Data + Pandas"
   ]
  },
  {
   "cell_type": "code",
   "execution_count": 3,
   "id": "3e299ca1",
   "metadata": {},
   "outputs": [],
   "source": [
    "# importing packages\n",
    "from bs4 import BeautifulSoup\n",
    "import pandas as pd\n",
    "import requests"
   ]
  },
  {
   "cell_type": "code",
   "execution_count": 4,
   "id": "27b4b633",
   "metadata": {},
   "outputs": [],
   "source": [
    "# setting up url and page\n",
    "\n",
    "url = 'https://en.wikipedia.org/wiki/List_of_largest_companies_in_the_United_States_by_revenue'\n",
    "\n",
    "page = requests.get(url)\n",
    "\n",
    "soup = BeautifulSoup(page.text, 'html')"
   ]
  },
  {
   "cell_type": "code",
   "execution_count": 77,
   "id": "8364ce42",
   "metadata": {},
   "outputs": [],
   "source": [
    "#print(soup)"
   ]
  },
  {
   "cell_type": "code",
   "execution_count": 76,
   "id": "57a6ff49",
   "metadata": {},
   "outputs": [],
   "source": [
    "#soup.find('table', class_ = 'wikitable sortable')"
   ]
  },
  {
   "cell_type": "code",
   "execution_count": 49,
   "id": "97918f9f",
   "metadata": {},
   "outputs": [],
   "source": [
    "table = soup.find_all('table')[1]"
   ]
  },
  {
   "cell_type": "code",
   "execution_count": 75,
   "id": "a1bc4a14",
   "metadata": {},
   "outputs": [],
   "source": [
    " #print(table)"
   ]
  },
  {
   "cell_type": "code",
   "execution_count": 51,
   "id": "bf280a1c",
   "metadata": {},
   "outputs": [],
   "source": [
    "# old code: world_titles = soup.find_all('th')\n",
    "# this is where the first error came in, we need to pull directly from the table\n",
    "world_titles = table.find_all('th')"
   ]
  },
  {
   "cell_type": "code",
   "execution_count": 52,
   "id": "b51f73e1",
   "metadata": {},
   "outputs": [
    {
     "data": {
      "text/plain": [
       "[<th>Rank\n",
       " </th>,\n",
       " <th>Name\n",
       " </th>,\n",
       " <th>Industry\n",
       " </th>,\n",
       " <th>Revenue <br/>(USD millions)\n",
       " </th>,\n",
       " <th>Revenue growth\n",
       " </th>,\n",
       " <th>Employees\n",
       " </th>,\n",
       " <th>Headquarters\n",
       " </th>]"
      ]
     },
     "execution_count": 52,
     "metadata": {},
     "output_type": "execute_result"
    }
   ],
   "source": [
    "world_titles\n",
    "# original code was pulling in data that was including a different table"
   ]
  },
  {
   "cell_type": "code",
   "execution_count": 53,
   "id": "5eb4126a",
   "metadata": {},
   "outputs": [
    {
     "name": "stdout",
     "output_type": "stream",
     "text": [
      "['Rank\\n', 'Name\\n', 'Industry\\n', 'Revenue (USD millions)\\n', 'Revenue growth\\n', 'Employees\\n', 'Headquarters\\n']\n"
     ]
    }
   ],
   "source": [
    "world_table_titles = [title.text for title in world_titles]\n",
    "\n",
    "print(world_table_titles)\n",
    "#looking good, but we need to remove the '\\n' from all columns"
   ]
  },
  {
   "cell_type": "code",
   "execution_count": 54,
   "id": "73e8a497",
   "metadata": {},
   "outputs": [
    {
     "name": "stdout",
     "output_type": "stream",
     "text": [
      "['Rank', 'Name', 'Industry', 'Revenue (USD millions)', 'Revenue growth', 'Employees', 'Headquarters']\n"
     ]
    }
   ],
   "source": [
    "# removing the '\\n' from all. column entries\n",
    "world_table_titles = [title.text.strip( ) for title in world_titles]\n",
    "\n",
    "print(world_table_titles)"
   ]
  },
  {
   "cell_type": "code",
   "execution_count": 56,
   "id": "1ae0415d",
   "metadata": {},
   "outputs": [
    {
     "data": {
      "text/html": [
       "<div>\n",
       "<style scoped>\n",
       "    .dataframe tbody tr th:only-of-type {\n",
       "        vertical-align: middle;\n",
       "    }\n",
       "\n",
       "    .dataframe tbody tr th {\n",
       "        vertical-align: top;\n",
       "    }\n",
       "\n",
       "    .dataframe thead th {\n",
       "        text-align: right;\n",
       "    }\n",
       "</style>\n",
       "<table border=\"1\" class=\"dataframe\">\n",
       "  <thead>\n",
       "    <tr style=\"text-align: right;\">\n",
       "      <th></th>\n",
       "      <th>Rank</th>\n",
       "      <th>Name</th>\n",
       "      <th>Industry</th>\n",
       "      <th>Revenue (USD millions)</th>\n",
       "      <th>Revenue growth</th>\n",
       "      <th>Employees</th>\n",
       "      <th>Headquarters</th>\n",
       "    </tr>\n",
       "  </thead>\n",
       "  <tbody>\n",
       "  </tbody>\n",
       "</table>\n",
       "</div>"
      ],
      "text/plain": [
       "Empty DataFrame\n",
       "Columns: [Rank, Name, Industry, Revenue (USD millions), Revenue growth, Employees, Headquarters]\n",
       "Index: []"
      ]
     },
     "execution_count": 56,
     "metadata": {},
     "output_type": "execute_result"
    }
   ],
   "source": [
    "df = pd.DataFrame(columns = world_table_titles)\n",
    "df\n"
   ]
  },
  {
   "cell_type": "code",
   "execution_count": 58,
   "id": "4bd621b6",
   "metadata": {},
   "outputs": [],
   "source": [
    "# now we need to pull in the data from the table\n",
    "column_data = table.find_all('tr')"
   ]
  },
  {
   "cell_type": "code",
   "execution_count": 74,
   "id": "c98894fe",
   "metadata": {
    "scrolled": false
   },
   "outputs": [
    {
     "data": {
      "text/plain": [
       "\"for row in column_data:\\n    row_data = row.find_all('td')\\n    individual_row_data = [data.text.strip() for data in row_data]\\n    print(individual_row_data)\""
      ]
     },
     "execution_count": 74,
     "metadata": {},
     "output_type": "execute_result"
    }
   ],
   "source": [
    "\"\"\"for row in column_data:\n",
    "    row_data = row.find_all('td')\n",
    "    individual_row_data = [data.text.strip() for data in row_data]\n",
    "    print(individual_row_data)\"\"\""
   ]
  },
  {
   "cell_type": "code",
   "execution_count": 61,
   "id": "7acba920",
   "metadata": {},
   "outputs": [
    {
     "name": "stdout",
     "output_type": "stream",
     "text": [
      "['100', 'Qualcomm', 'Technology', '44,200', '31.7%', '51,000', 'San Diego, California']\n"
     ]
    }
   ],
   "source": [
    "# the problem with above - it's only printing off one at a time we need to append this data into the data frame as it loops through the data\n",
    "print(individual_row_data)"
   ]
  },
  {
   "cell_type": "code",
   "execution_count": 72,
   "id": "dcfddd72",
   "metadata": {},
   "outputs": [
    {
     "data": {
      "text/plain": [
       "\"for row in column_data:\\n    row_data = row.find_all('td')\\n    individual_row_data = [data.text.strip() for data in row_data]\\n    print(individual_row_data)\\n    \\n   # length= len(df)\\n   # df.loc[length] = individual_row_data\""
      ]
     },
     "execution_count": 72,
     "metadata": {},
     "output_type": "execute_result"
    }
   ],
   "source": [
    "# test 2\n",
    "'''for row in column_data:\n",
    "    row_data = row.find_all('td')\n",
    "    individual_row_data = [data.text.strip() for data in row_data]\n",
    "    print(individual_row_data)\n",
    "    \n",
    "   # length= len(df)\n",
    "   # df.loc[length] = individual_row_data'''"
   ]
  },
  {
   "cell_type": "code",
   "execution_count": 68,
   "id": "723c496a",
   "metadata": {},
   "outputs": [
    {
     "name": "stdout",
     "output_type": "stream",
     "text": [
      "['1', 'Walmart', 'Retail', '611,289', '6.7%', '2,100,000', 'Bentonville, Arkansas']\n",
      "['2', 'Amazon', 'Retail and cloud computing', '513,983', '9.4%', '1,540,000', 'Seattle, Washington']\n",
      "['3', 'ExxonMobil', 'Petroleum industry', '413,680', '44.8%', '62,000', 'Spring, Texas']\n",
      "['4', 'Apple', 'Electronics industry', '394,328', '7.8%', '164,000', 'Cupertino, California']\n",
      "['5', 'UnitedHealth Group', 'Healthcare', '324,162', '12.7%', '400,000', 'Minnetonka, Minnesota']\n",
      "['6', 'CVS Health', 'Healthcare', '322,467', '10.4%', '259,500', 'Woonsocket, Rhode Island']\n",
      "['7', 'Berkshire Hathaway', 'Conglomerate', '302,089', '9.4%', '383,000', 'Omaha, Nebraska']\n",
      "['8', 'Alphabet', 'Technology and Cloud Computing', '282,836', '9.8%', '156,000', 'Mountain View, California']\n",
      "['9', 'McKesson Corporation', 'Health', '276,711', '4.8%', '48,500', 'Irving, Texas']\n",
      "['10', 'Chevron Corporation', 'Petroleum industry', '246,252', '51.6%', '43,846', 'San Ramon, California']\n",
      "['11', 'AmerisourceBergen', 'Pharmaceutical industry', '238,587', '11.5%', '41,500', 'Chesterbrook, Pennsylvania']\n",
      "['12', 'Costco', 'Retail', '226,954', '15.8%', '304,000', 'Issaquah, Washington']\n",
      "['13', 'Microsoft', 'Technology and Cloud Computing', '198,270', '18.0%', '221,000', 'Redmond, Washington']\n",
      "['14', 'Cardinal Health', 'Healthcare', '181,364', '11.6%', '46,035', 'Dublin, Ohio']\n",
      "['15', 'Cigna', 'Health Insurance', '180,516', '3.7%', '70,231', 'Bloomfield, Connecticut']\n",
      "['16', 'Marathon Petroleum', 'Petroleum industry', '180,012', '27.6%', '17,800', 'Findlay, Ohio']\n",
      "['17', 'Phillips 66', 'Petroleum industry', '175,702', '53.0%', '13,000', 'Houston, Texas']\n",
      "['18', 'Valero Energy', 'Petroleum industry', '171,189', '58.0%', '9,743', 'San Antonio, Texas']\n",
      "['19', 'Ford Motor Company', 'Automotive industry', '158,057', '15.9%', '173,000', 'Dearborn, Michigan']\n",
      "['20', 'The Home Depot', 'Retail', '157,403', '4.1%', '471,600', 'Atlanta, Georgia']\n",
      "['21', 'General Motors', 'Automotive industry', '156,735', '23.4%', '167,000', 'Detroit, Michigan']\n",
      "['22', 'Elevance Health', 'Healthcare', '156,595', '13.0%', '102,200', 'Indianapolis, Indiana']\n",
      "['23', 'JPMorgan Chase', 'Financial services', '154,792', '21.7%', '293,723', 'New York City, New York']\n",
      "['24', 'Kroger', 'Retail', '148,258', '7.5%', '430,000', 'Cincinnati, Ohio']\n",
      "['25', 'Centene', 'Healthcare', '144,547', '14.7%', '74,300', 'St. Louis, Missouri']\n",
      "['26', 'Verizon Communications', 'Telecommunications', '136,835', '2.4%', '117,100', 'New York City, New York']\n",
      "['27', 'Walgreens Boots Alliance', 'Pharmaceutical industry', '132,703', '10.7%', '262,500', 'Deerfield, Illinois']\n",
      "['28', 'Fannie Mae', 'Financials', '121,596', '19.7%', '8,000', 'Washington, D.C.']\n",
      "['29', 'Comcast', 'Telecommunications', '121,427', '4.3%', '186,000', 'Philadelphia, Pennsylvania']\n",
      "['30', 'AT&T', 'Conglomerate and Telecomunications', '120,741', '28.5%', '160,700', 'Dallas, Texas']\n",
      "['31', 'Meta Platforms', 'Technology', '116,609', '1.1%', '86,482', 'Menlo Park, California']\n",
      "['32', 'Bank of America', 'Financials', '115,053', '22.6%', '216,823', 'Charlotte, North Carolina']\n",
      "['33', 'Target Corporation', 'Retail', '109,120', '2.9%', '440,000', 'Minneapolis, Minnesota']\n",
      "['34', 'Dell Technologies', 'Technology', '102,301', '4.4%', '133,000', 'Round Rock, Texas']\n",
      "['35', 'Archer Daniels Midland', 'Food industry', '101,556', '19.1%', '41,181', 'Chicago, Illinois']\n",
      "['36', 'Citigroup', 'Financials', '101,078', '26.6%', '238,104', 'New York City, New York']\n",
      "['37', 'United Parcel Service', 'Transportation', '100,338', '3.1%', '404,700', 'Atlanta, Georgia']\n",
      "['38', 'Pfizer', 'Pharmaceutical industry', '100,330', '23.4%', '83,000', 'New York City, New York']\n",
      "['39', \"Lowe's\", 'Retail', '97,059', '0.8%', '244,500', 'Mooresville, North Carolina']\n",
      "['40', 'Johnson & Johnson', 'Pharmaceutical industry', '94,943', '1.2%', '152,700', 'New Brunswick, New Jersey']\n",
      "['41', 'FedEx', 'Transportation', '93,512', '11.4%', '518,249', 'Memphis, Tennessee']\n",
      "['42', 'Humana', 'Health Insurance', '92,870', '11.8%', '67,100', 'Louisville, Kentucky']\n",
      "['43', 'Energy Transfer Partners', 'Petroleum industry', '89,876', '33.3%', '12,565', 'Dallas, Texas']\n",
      "['44', 'State Farm', 'Financials', '89,328', '8.6%', '60,519', 'Bloomington, Illinois']\n",
      "['45', 'Freddie Mac', 'Financials', '86,717', '31.6%', '7,819', 'McLean, Virginia']\n",
      "['46', 'PepsiCo', 'Beverage', '86,859', '8.7%', '315,000', 'Purchase, New York']\n",
      "['47', 'Wells Fargo', 'Financials', '82,859', '0.5%', '238,000', 'San Francisco, California']\n",
      "['48', 'The Walt Disney Company', 'Media', '82,722', '22.7%', '195,800', 'Burbank, California']\n",
      "['49', 'ConocoPhillips', 'Petroleum industry', '82,156', '69.9%', '9,500', 'Houston, Texas']\n",
      "['50', 'Tesla', 'Automotive and Energy', '81,462', '51.4%', '127,855', 'Austin, Texas']\n",
      "['51', 'Procter & Gamble', 'Consumer products Manufacturing', '80,187', '5.3%', '106,000', 'Cincinnati, Ohio']\n",
      "['52', 'United States Postal Service', 'Logistics', '78,620', '2.0%', '576,000', 'Washington, D.C.']\n",
      "['53', 'Albertsons', 'Retail', '77,650', '8.0%', '198,650', 'Boise, Idaho']\n",
      "['54', 'General Electric', 'Conglomerate', '76,555', '3.2%', '172,000', 'Boston, Massachusetts']\n",
      "['55', 'MetLife', 'Financials', '69,898', '1.7%', '45,000', 'New York City, New York']\n",
      "['56', 'Goldman Sachs', 'Financials', '68,711', '5.7%', '48,500', 'New York City, New York']\n",
      "['57', 'Sysco', 'Food Service', '68,636', '33.8%', '70,510', 'Houston, Texas']\n",
      "['58', 'Bunge Limited', 'Food industry', '67,232', '13.7%', '23,000', 'White Plains, New York']\n",
      "['59', 'RTX Corporation', 'Conglomerate', '67,074', '4.2%', '182,000', 'Arlington County, Virginia']\n",
      "['60', 'Boeing', 'Aerospace and defense', '66,608', '6.9%', '156,000', 'Arlington County, Virginia']\n",
      "['61', 'StoneX Group', 'Financials', '66,036', '55.3%', '305', 'New York City, New York']\n",
      "['62', 'Lockheed Martin', 'Aerospace and Defense', '65,984', '1.6%', '116,000', 'Bethesda, Maryland']\n",
      "['63', 'Morgan Stanley', 'Financials', '65,936', '7.9%', '82,427', 'New York City, New York']\n",
      "['64', 'Intel', 'Technology', '63,054', '20.1%', '131,900', 'Santa Clara, California']\n",
      "['65', 'HP', 'Technology', '62,983', '0.8%', '58,000', 'Palo Alto, California']\n",
      "['66', 'TD Synnex', 'Infotech', '62,344', '97.2%', '28,500', 'Clearwater, Florida']\n",
      "['67', 'IBM', 'Technology and Cloud Computing', '60,530', '16.3%', '303,100', 'Armonk, New York']\n",
      "['68', 'HCA Healthcare', 'Healthcare', '60,233', '2.5%', '250,500', 'Nashville, Tennessee']\n",
      "['69', 'Prudential Financial', 'Financials', '60,050', '15.3%', '39,583', 'Newark, New Jersey']\n",
      "['70', 'Caterpillar', 'Machinery', '59,427', '16.6%', '109,100', 'Deerfield, Illinois']\n",
      "['71', 'Merck & Co.', 'Pharmaceutical industry', '59,283', '15.8%', '68,000', 'Kenilworth, New Jersey']\n",
      "['72', 'World Fuel Services', 'Petroleum industry and Logistics', '59,043', '88.4%', '5,214', 'Miami, Florida']\n",
      "['73', 'New York Life Insurance Company', 'Insurance', '58,445', '14.2%', '15,050', 'New York City, New York']\n",
      "['74', 'Enterprise Products', 'Petroleum industry', '58,186', '42.6%', '7,300', 'Houston, Texas']\n",
      "['75', 'AbbVie', 'Pharmaceutical industry', '58,054', '3.3%', '50,000', 'Lake Bluff, Illinois']\n",
      "['76', 'Plains All American Pipeline', 'Petroleum industry', '57,342', '36.3%', '4,100', 'Houston, Texas']\n",
      "['77', 'Dow Chemical Company', 'Chemical industry', '56,902', '3.5%', '37,800', 'Midland, Michigan']\n",
      "['78', 'AIG', 'Insurance', '56,437', '8.4%', '26,200', 'New York City, New York']\n",
      "['79', 'American Express', 'Financial', '55,625', '27.3%', '77,300', 'New York City, New York']\n",
      "['80', 'Publix', 'Retail', '54,942', '13.5%', '242,000', 'Lakeland, Florida']\n",
      "['81', 'Charter Communications', 'Telecommunications', '54,022', '4.5%', '101,700', 'Stamford, Connecticut']\n",
      "['82', 'Tyson Foods', 'Food Processing', '53,282', '13.2%', '142,000', 'Springdale, Arkansas']\n",
      "['83', 'John Deere', 'Agriculture manufacturing', '52,577', '19.4%', '82,239', 'Moline, Illinois']\n",
      "['84', 'Cisco', 'Telecom Hardware Manufacturing', '51,557', '3.5%', '83,300', 'San Jose, California']\n",
      "['85', 'Nationwide Mutual Insurance Company', 'Financial', '51,450', '8.6%', '24,791', 'Columbus, Ohio']\n",
      "['86', 'Allstate', 'Insurance', '51,412', '3.4%', '54,250', 'Northfield Township, Cook County, Illinois']\n",
      "['87', 'Delta Air Lines', 'Airline', '50,582', '69.2%', '95,000', 'Atlanta, Georgia']\n",
      "['88', 'Liberty Mutual', 'Insurance', '49,956', '3.6%', '50,000', 'Boston, Massachusetts']\n",
      "['89', 'TJX', 'Retail', '49,936', '2.9%', '329,000', 'Framingham, Massachusetts']\n",
      "['90', 'Progressive Corporation', 'Insurance', '49,611', '4.0%', '55,063', 'Mayfield Village, Ohio']\n",
      "['91', 'American Airlines', 'Airline', '48,971', '63.9%', '129,700', 'Fort Worth, Texas']\n",
      "['92', 'CHS', 'Agriculture cooperative', '47,194', '24.3%', '10,014', 'Inver Grove Heights, Minnesota']\n",
      "['93', 'Performance Food Group', 'Food Processing', '47,194', '61.6%', '34,825', 'Richmond, Virginia']\n",
      "['94', 'PBF Energy', 'Petroleum industry', '46,830', '71.8%', '3,616', 'Parsippany–Troy Hills, New Jersey']\n",
      "['95', 'Nike', 'Apparel', '46,710', '4.9%', '79,100', 'Beaverton, Oregon']\n",
      "['96', 'Best Buy', 'Retail', '46,298', '10.6%', '71,100', 'Richfield, Minnesota']\n",
      "['97', 'Bristol-Myers Squibb', 'Pharmaceutical industry', '46,159', '0.5%', '34,300', 'New York City, New York']\n",
      "['98', 'United Airlines', 'Airline', '44,955', '82.5%', '92,795', 'Chicago, Illinois']\n",
      "['99', 'Thermo Fisher Scientific', 'Laboratory instruments', '44,915', '14.5%', '130,000', 'Waltham, Massachusetts']\n",
      "['100', 'Qualcomm', 'Technology', '44,200', '31.7%', '51,000', 'San Diego, California']\n"
     ]
    }
   ],
   "source": [
    "# we're running into a error, perhaps it's the empty list leading the data?\n",
    "# we are going to skip the first entry by adding '[1:]' to the for loop\n",
    "for row in column_data[1:]:\n",
    "    row_data = row.find_all('td')\n",
    "    individual_row_data = [data.text.strip() for data in row_data]\n",
    "    print(individual_row_data)\n",
    "    \n",
    "    length = len(df)\n",
    "    df.loc[length] = individual_row_data"
   ]
  },
  {
   "cell_type": "code",
   "execution_count": 69,
   "id": "ce3fe8ae",
   "metadata": {},
   "outputs": [
    {
     "data": {
      "text/html": [
       "<div>\n",
       "<style scoped>\n",
       "    .dataframe tbody tr th:only-of-type {\n",
       "        vertical-align: middle;\n",
       "    }\n",
       "\n",
       "    .dataframe tbody tr th {\n",
       "        vertical-align: top;\n",
       "    }\n",
       "\n",
       "    .dataframe thead th {\n",
       "        text-align: right;\n",
       "    }\n",
       "</style>\n",
       "<table border=\"1\" class=\"dataframe\">\n",
       "  <thead>\n",
       "    <tr style=\"text-align: right;\">\n",
       "      <th></th>\n",
       "      <th>Rank</th>\n",
       "      <th>Name</th>\n",
       "      <th>Industry</th>\n",
       "      <th>Revenue (USD millions)</th>\n",
       "      <th>Revenue growth</th>\n",
       "      <th>Employees</th>\n",
       "      <th>Headquarters</th>\n",
       "    </tr>\n",
       "  </thead>\n",
       "  <tbody>\n",
       "    <tr>\n",
       "      <th>0</th>\n",
       "      <td>1</td>\n",
       "      <td>Walmart</td>\n",
       "      <td>Retail</td>\n",
       "      <td>611,289</td>\n",
       "      <td>6.7%</td>\n",
       "      <td>2,100,000</td>\n",
       "      <td>Bentonville, Arkansas</td>\n",
       "    </tr>\n",
       "    <tr>\n",
       "      <th>1</th>\n",
       "      <td>2</td>\n",
       "      <td>Amazon</td>\n",
       "      <td>Retail and cloud computing</td>\n",
       "      <td>513,983</td>\n",
       "      <td>9.4%</td>\n",
       "      <td>1,540,000</td>\n",
       "      <td>Seattle, Washington</td>\n",
       "    </tr>\n",
       "    <tr>\n",
       "      <th>2</th>\n",
       "      <td>3</td>\n",
       "      <td>ExxonMobil</td>\n",
       "      <td>Petroleum industry</td>\n",
       "      <td>413,680</td>\n",
       "      <td>44.8%</td>\n",
       "      <td>62,000</td>\n",
       "      <td>Spring, Texas</td>\n",
       "    </tr>\n",
       "    <tr>\n",
       "      <th>3</th>\n",
       "      <td>4</td>\n",
       "      <td>Apple</td>\n",
       "      <td>Electronics industry</td>\n",
       "      <td>394,328</td>\n",
       "      <td>7.8%</td>\n",
       "      <td>164,000</td>\n",
       "      <td>Cupertino, California</td>\n",
       "    </tr>\n",
       "    <tr>\n",
       "      <th>4</th>\n",
       "      <td>5</td>\n",
       "      <td>UnitedHealth Group</td>\n",
       "      <td>Healthcare</td>\n",
       "      <td>324,162</td>\n",
       "      <td>12.7%</td>\n",
       "      <td>400,000</td>\n",
       "      <td>Minnetonka, Minnesota</td>\n",
       "    </tr>\n",
       "    <tr>\n",
       "      <th>...</th>\n",
       "      <td>...</td>\n",
       "      <td>...</td>\n",
       "      <td>...</td>\n",
       "      <td>...</td>\n",
       "      <td>...</td>\n",
       "      <td>...</td>\n",
       "      <td>...</td>\n",
       "    </tr>\n",
       "    <tr>\n",
       "      <th>195</th>\n",
       "      <td>96</td>\n",
       "      <td>Best Buy</td>\n",
       "      <td>Retail</td>\n",
       "      <td>46,298</td>\n",
       "      <td>10.6%</td>\n",
       "      <td>71,100</td>\n",
       "      <td>Richfield, Minnesota</td>\n",
       "    </tr>\n",
       "    <tr>\n",
       "      <th>196</th>\n",
       "      <td>97</td>\n",
       "      <td>Bristol-Myers Squibb</td>\n",
       "      <td>Pharmaceutical industry</td>\n",
       "      <td>46,159</td>\n",
       "      <td>0.5%</td>\n",
       "      <td>34,300</td>\n",
       "      <td>New York City, New York</td>\n",
       "    </tr>\n",
       "    <tr>\n",
       "      <th>197</th>\n",
       "      <td>98</td>\n",
       "      <td>United Airlines</td>\n",
       "      <td>Airline</td>\n",
       "      <td>44,955</td>\n",
       "      <td>82.5%</td>\n",
       "      <td>92,795</td>\n",
       "      <td>Chicago, Illinois</td>\n",
       "    </tr>\n",
       "    <tr>\n",
       "      <th>198</th>\n",
       "      <td>99</td>\n",
       "      <td>Thermo Fisher Scientific</td>\n",
       "      <td>Laboratory instruments</td>\n",
       "      <td>44,915</td>\n",
       "      <td>14.5%</td>\n",
       "      <td>130,000</td>\n",
       "      <td>Waltham, Massachusetts</td>\n",
       "    </tr>\n",
       "    <tr>\n",
       "      <th>199</th>\n",
       "      <td>100</td>\n",
       "      <td>Qualcomm</td>\n",
       "      <td>Technology</td>\n",
       "      <td>44,200</td>\n",
       "      <td>31.7%</td>\n",
       "      <td>51,000</td>\n",
       "      <td>San Diego, California</td>\n",
       "    </tr>\n",
       "  </tbody>\n",
       "</table>\n",
       "<p>200 rows × 7 columns</p>\n",
       "</div>"
      ],
      "text/plain": [
       "    Rank                      Name                    Industry  \\\n",
       "0      1                   Walmart                      Retail   \n",
       "1      2                    Amazon  Retail and cloud computing   \n",
       "2      3                ExxonMobil          Petroleum industry   \n",
       "3      4                     Apple        Electronics industry   \n",
       "4      5        UnitedHealth Group                  Healthcare   \n",
       "..   ...                       ...                         ...   \n",
       "195   96                  Best Buy                      Retail   \n",
       "196   97      Bristol-Myers Squibb     Pharmaceutical industry   \n",
       "197   98           United Airlines                     Airline   \n",
       "198   99  Thermo Fisher Scientific      Laboratory instruments   \n",
       "199  100                  Qualcomm                  Technology   \n",
       "\n",
       "    Revenue (USD millions) Revenue growth  Employees             Headquarters  \n",
       "0                  611,289           6.7%  2,100,000    Bentonville, Arkansas  \n",
       "1                  513,983           9.4%  1,540,000      Seattle, Washington  \n",
       "2                  413,680          44.8%     62,000            Spring, Texas  \n",
       "3                  394,328           7.8%    164,000    Cupertino, California  \n",
       "4                  324,162          12.7%    400,000    Minnetonka, Minnesota  \n",
       "..                     ...            ...        ...                      ...  \n",
       "195                 46,298          10.6%     71,100     Richfield, Minnesota  \n",
       "196                 46,159           0.5%     34,300  New York City, New York  \n",
       "197                 44,955          82.5%     92,795        Chicago, Illinois  \n",
       "198                 44,915          14.5%    130,000   Waltham, Massachusetts  \n",
       "199                 44,200          31.7%     51,000    San Diego, California  \n",
       "\n",
       "[200 rows x 7 columns]"
      ]
     },
     "execution_count": 69,
     "metadata": {},
     "output_type": "execute_result"
    }
   ],
   "source": [
    "df"
   ]
  },
  {
   "cell_type": "code",
   "execution_count": 78,
   "id": "6ed2e8ef",
   "metadata": {},
   "outputs": [],
   "source": [
    "# if wanted, we can export this dataframe into a csv\n",
    "df.to_csv(r'/Users/alecvalentino/Desktop/Data Analytics Bootcamp/Companies.csv')"
   ]
  },
  {
   "cell_type": "code",
   "execution_count": 79,
   "id": "fd89b0dc",
   "metadata": {},
   "outputs": [],
   "source": [
    "# above code ran but at the moment, we don't want the index for each column, so we will remove it\n",
    "df.to_csv(r'/Users/alecvalentino/Desktop/Data Analytics Bootcamp/Companies.csv', index = False)"
   ]
  },
  {
   "cell_type": "code",
   "execution_count": null,
   "id": "08d96313",
   "metadata": {},
   "outputs": [],
   "source": []
  }
 ],
 "metadata": {
  "kernelspec": {
   "display_name": "Python 3 (ipykernel)",
   "language": "python",
   "name": "python3"
  },
  "language_info": {
   "codemirror_mode": {
    "name": "ipython",
    "version": 3
   },
   "file_extension": ".py",
   "mimetype": "text/x-python",
   "name": "python",
   "nbconvert_exporter": "python",
   "pygments_lexer": "ipython3",
   "version": "3.9.12"
  }
 },
 "nbformat": 4,
 "nbformat_minor": 5
}
